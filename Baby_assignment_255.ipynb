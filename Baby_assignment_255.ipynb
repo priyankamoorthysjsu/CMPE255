{
 "cells": [
  {
   "cell_type": "markdown",
   "metadata": {},
   "source": [
    "\n",
    "### Name: Priyanka Moorthy\n",
    "### SJSU ID: 015936583\n",
    "-------------------------------------"
   ]
  },
  {
   "cell_type": "markdown",
   "metadata": {},
   "source": [
    "### Results:\n",
    "#### Feed count: 785\n",
    "#### Diaper change count: 888\n",
    "#### Most Action By Day:\n",
    "    Day       Thur\n",
    "    Hour        20\n",
    "    Action      22\n",
    "-------------------------------------------"
   ]
  },
  {
   "cell_type": "code",
   "execution_count": 148,
   "metadata": {},
   "outputs": [
    {
     "data": {
      "text/html": [
       "<style>\n",
       "  table {margin-left: 0 !important;}\n",
       "</style>\n"
      ],
      "text/plain": [
       "<IPython.core.display.HTML object>"
      ]
     },
     "metadata": {},
     "output_type": "display_data"
    }
   ],
   "source": [
    "%%html\n",
    "<style>\n",
    "  table {margin-left: 0 !important;}\n",
    "</style>"
   ]
  },
  {
   "cell_type": "markdown",
   "metadata": {},
   "source": [
    "### Goal\n",
    "The goal is to answer the following questions:\n",
    "    1. How many total feeds are there?\n",
    "    2. How many total diaper changes?\n",
    "    3. What day had the most actions in a given hour (diaper changes + feeds)?\n",
    "and perform the following on data baby.txt:\n",
    "    1. For all of the days create a histogram to show what hour of the day had the most actions.\n",
    "    2. Graph the number of diaper changes per day over time   \n",
    "    \n",
    "### Brief understanding of data:\n",
    "\n",
    "1. The data has a set of lines that contain the time, a action(eat, poop, pee or poop and pee). The actios are sometimes followed by the quantity of intake if the action was eat and the number of times the actions pee, poop or poop and pee happen. In few cases \"a little\" is used to describe the quantity instead of the number. Let's call these set of rows as action rows.\n",
    "2. A date is follwed after a set of action rows which indicates on which date the above actions took place. The format of date is also incosistant.\n",
    "\n",
    "### Data format proposal:\n",
    "\n",
    "|Date|Month|Day| Time| Action|Quantity|Unit|\n",
    "|:---|:----|:--|:----|:------|:-------|:---|\n",
    "|21|07|Tue|1253|eat|3|oz|\n",
    "|21|07|Tue|1248|pee|||\n",
    "\n",
    "For now lets Ignore the Quantity and Unit columns as they are not required to reach our goal.\n",
    "\n",
    "\n",
    "Date - The Date the action took place\n",
    "Time - The time the action took place\n",
    "Action - Action could be either eat, poop, pee, poop or pee, poop and pee\n",
    "Quantity - If the action is `eat`, this will hold the quantity of food intake. In case of other action types it will hold the number of times the action took place, if indicated in baby.txt file.\n",
    "Unit - The unit of Quatity if the action was `eat`"
   ]
  },
  {
   "cell_type": "markdown",
   "metadata": {},
   "source": [
    "### Import libraries"
   ]
  },
  {
   "cell_type": "code",
   "execution_count": 149,
   "metadata": {},
   "outputs": [],
   "source": [
    "#import data from baby.txt file\n",
    "import re\n",
    "import pandas as pd\n",
    "import copy\n",
    "from matplotlib import pyplot\n",
    "import seaborn as sns\n"
   ]
  },
  {
   "cell_type": "markdown",
   "metadata": {},
   "source": [
    "### Global Variables"
   ]
  },
  {
   "cell_type": "code",
   "execution_count": 150,
   "metadata": {},
   "outputs": [],
   "source": [
    "#global variables\n",
    "count = 0\n",
    "month_fullname = {\n",
    "    \"January\":1,\n",
    "    \"February\":2,\n",
    "    \"March\":3,\n",
    "    \"April\": 4,\n",
    "    \"May\": 5,\n",
    "    \"June\":6,\n",
    "    \"July\": 7,\n",
    "    \"August\": 8,\n",
    "    \"September\": 9,\n",
    "    \"October\": 10,\n",
    "    \"November\": 11,\n",
    "    \"December\": 12\n",
    "    }\n",
    "\n",
    "month_shrt = {\n",
    "    \"Jan\":1,\n",
    "    \"Feb\":2,\n",
    "    \"Mar\":3,\n",
    "    \"Apr\": 4,\n",
    "    \"May\": 5,\n",
    "    \"Jun\":6,\n",
    "    \"Jul\": 7,\n",
    "    \"Aug\": 8,\n",
    "    \"Sep\": 9,\n",
    "    \"Oct\": 10,\n",
    "    \"Nov\": 11,\n",
    "    \"Dec\": 12 \n",
    "    }\n",
    "    "
   ]
  },
  {
   "cell_type": "markdown",
   "metadata": {},
   "source": [
    "### Load Data:\n",
    "\n",
    "Loads data from baby.txt file"
   ]
  },
  {
   "cell_type": "code",
   "execution_count": 151,
   "metadata": {},
   "outputs": [],
   "source": [
    "def load_data():\n",
    "    baby_list = open(\"./baby.txt\").read().splitlines()\n",
    "    baby_list = list(filter(None, baby_list))\n",
    "    return baby_list\n",
    "    "
   ]
  },
  {
   "cell_type": "markdown",
   "metadata": {},
   "source": [
    "### Total Feeds:\n",
    "Return total number of feeds in data"
   ]
  },
  {
   "cell_type": "code",
   "execution_count": 152,
   "metadata": {},
   "outputs": [],
   "source": [
    "### get totalfeeds \n",
    "def totalfeeds(dataframe):\n",
    "    return len(dataframe.loc[(dataframe['Action'] == 'eat') | (dataframe['Action'] == 'snack')])"
   ]
  },
  {
   "cell_type": "markdown",
   "metadata": {},
   "source": [
    "### Total Diaper Change:\n",
    "Return total number of diaper change in data"
   ]
  },
  {
   "cell_type": "code",
   "execution_count": 153,
   "metadata": {},
   "outputs": [],
   "source": [
    "### get totalDiaperChange \n",
    "def totalDiaperChange(dataframe):\n",
    "    return len(dataframe.loc[(dataframe['Action'] != 'eat') & (dataframe['Action'] != 'snack')])"
   ]
  },
  {
   "cell_type": "markdown",
   "metadata": {},
   "source": [
    "### Populate Dict with data:\n",
    "- Populate the dict with Date, Day, Month, Hour, Minute and Action for each row in data associated with a date\n",
    "- Values O500 and 20050 of time are changed to 0500 and 2050 respectively\n",
    "- Value 'est' is replaced with eat"
   ]
  },
  {
   "cell_type": "code",
   "execution_count": 154,
   "metadata": {},
   "outputs": [],
   "source": [
    "def populateDict(date_dict, values):\n",
    "    rows = []\n",
    "    temp_values = copy.deepcopy(values)\n",
    "    for val in temp_values:\n",
    "        row = {}\n",
    "        val_lst = val.split()\n",
    "        val_lst[0] = int('0500') if  val_lst[0]== 'O500' else int('2050') if val_lst[0] == '20050' else val_lst[0]\n",
    "        row['Minute']= int(val_lst[0])%100\n",
    "        row['Hour']= int(int(val_lst[0])/100)\n",
    "        row['Action']= 'eat' if val_lst[1]=='est' else val_lst[1]\n",
    "        row['Date'] = int(date_dict['Date'])\n",
    "        row['Day'] = date_dict['Day']\n",
    "        row['Month'] = int(date_dict['Month'])\n",
    "        rows.append(row)\n",
    "    return rows\n",
    "        "
   ]
  },
  {
   "cell_type": "markdown",
   "metadata": {},
   "source": [
    "### Clean Data:\n",
    "- for each format of date, a regex is used to match and fetch the values\n",
    "- Each action type is added to temp_list until we come across date. If date occurs the values in temp_list along with date is used to construct res dict\n",
    "- res_list dict is later converted to a dataframe"
   ]
  },
  {
   "cell_type": "code",
   "execution_count": 155,
   "metadata": {},
   "outputs": [],
   "source": [
    "def cleanData(b_list):\n",
    "    baby_dict = []\n",
    "    temp_list = []\n",
    "    res_list = []\n",
    "    for val in b_list:\n",
    "        # match format 'Tue July 21'\n",
    "        date_match_1 = re.findall(r'(?:Mon|Tue|Wed|Thur|Fri|Sat|Sun)\\s(?:January|February|March|April|May|June|July|August|September|October|November|December)\\s\\d{1,2}', val)\n",
    "        # match format 'Sat 05/30'\n",
    "        date_match_2 = re.findall(r'(?:Mon|Tue|Wed|Thur|Fri|Sat|Sun)\\s\\d{1,2}/\\d{1,2}', val)\n",
    "        # match format '5/25 Mon'\n",
    "        date_match_3 = re.findall(r'\\d{1,2}/\\d{1,2}\\s(?:Mon|Tue|Wed|Thur|Fri|Sat|Sun)', val)\n",
    "        # match format 'Tues 05/30'\n",
    "        date_match_4 = re.findall(r'(?:Mon|Tues|Wed|Thurs|Fri|Sat|Sun)\\s\\d{1,2}/\\d{1,2}', val)\n",
    "        # match format 'Tues Jun 30'\n",
    "        date_match_5 = re.findall(r'(?:Mon|Tues|Wed|Thurs|Fri|Sat|Sun)\\s(?:Jan|Feb|Mar|Apr|May|Jun|Jul|Aug|Sep|Oct|Nov|Dec)\\s\\d{1,2}', val)\n",
    "        # match format 'Tues June 30'\n",
    "        date_match_6 = re.findall(r'(?:Mon|Tues|Wed|Thurs|Fri|Sat|Sun)\\s(?:January|February|March|April|May|June|July|August|September|October|November|December)\\s\\d{1,2}', val)\n",
    "\n",
    "        if(len(date_match_1)!=0): \n",
    "            date = val.split()\n",
    "            temp_dict = {\n",
    "                'Day': 'Tue' if date[0]==\"Tues\" else 'Thur' if date[0]==\"Thurs\" else date[0],\n",
    "                'Month': month_fullname[date[1]],\n",
    "                'Date': 15 if int(date[2])==155 else date[2]\n",
    "            }\n",
    "            res_list.extend(populateDict(temp_dict,temp_list))\n",
    "            temp_list.clear()\n",
    "        elif len(date_match_2)!=0:\n",
    "            date = val.split()\n",
    "            dd_mm = date[1].split('/')\n",
    "            temp_dict = {\n",
    "                'Day': date[0],\n",
    "                'Date': dd_mm[1],\n",
    "                'Month': dd_mm[0]\n",
    "            }\n",
    "            res_list.extend(populateDict(temp_dict,temp_list))\n",
    "            temp_list.clear()\n",
    "            date_match_1.clear()\n",
    "            date_match_2.clear()\n",
    "            date_match_3.clear()\n",
    "        elif len(date_match_3)!=0:\n",
    "            date = val.split()\n",
    "            dd_mm = date[0].split('/')\n",
    "            temp_dict = {\n",
    "                'Day': date[1],\n",
    "                'Date': dd_mm[1],\n",
    "                'Month': dd_mm[0]\n",
    "            }\n",
    "            res_list.extend(populateDict(temp_dict,temp_list))\n",
    "            temp_list.clear()\n",
    "            date_match_1.clear()\n",
    "            date_match_2.clear()\n",
    "            date_match_3.clear()\n",
    "        elif(len(date_match_4)!=0):\n",
    "            date = val.split()\n",
    "            dd_mm = date[1].split('/')\n",
    "            temp_dict = {\n",
    "                'Day': 'Tue' if date[0]==\"Tues\" else 'Thur' if date[0]==\"Thurs\" else date[0],\n",
    "                'Date': dd_mm[1],\n",
    "                'Month': dd_mm[0] \n",
    "            }\n",
    "            res_list.extend(populateDict(temp_dict,temp_list))\n",
    "            temp_list.clear()\n",
    "            date_match_1.clear()\n",
    "            date_match_2.clear()\n",
    "            date_match_3.clear() \n",
    "        elif(len(date_match_5)!=0):\n",
    "            date = val.split()\n",
    "            temp_dict = {\n",
    "                'Day': 'Tue' if date[0]==\"Tues\" else 'Thur' if date[0]==\"Thurs\" else date[0],\n",
    "                'Month': month_shrt[date[1]],\n",
    "                'Date': date[2]\n",
    "            }\n",
    "            res_list.extend(populateDict(temp_dict,temp_list))\n",
    "            temp_list.clear() \n",
    "        elif(len(date_match_6)!=0):\n",
    "            date = val.split()\n",
    "            temp_dict = {\n",
    "                'Day': 'Tue' if date[0]==\"Tues\" else 'Thur' if date[0]==\"Thurs\" else date[0],\n",
    "                'Month': month_fullname[date[1]],\n",
    "                'Date': date[2]\n",
    "            }\n",
    "            res_list.extend(populateDict(temp_dict,temp_list))\n",
    "            temp_list.clear()\n",
    "        elif(len(re.findall(r'\\d{3,4}', val)) != 0):\n",
    "            temp_list.append(val)\n",
    "            \n",
    "        else:\n",
    "            print(\"other value format->\", val)\n",
    "    return res_list\n",
    "\n"
   ]
  },
  {
   "cell_type": "markdown",
   "metadata": {},
   "source": [
    "### Fix Values with same date, month but different Day\n",
    "- As few data have same date and month but different Day, it needs to be handled\n",
    "#### Approach A:\n",
    "- Replace the day of the week with the value that makes most sense with continuation considering all the data is from same year\n",
    "#### Approach B:\n",
    "- Change all the date values down the line for values that have same date and month but differnt Day considering them to be induvidual day\n",
    "\n",
    "As its uncertain, if the data is from same year or different. I implemented the Approach A.\n",
    "    "
   ]
  },
  {
   "cell_type": "code",
   "execution_count": 156,
   "metadata": {},
   "outputs": [],
   "source": [
    "# for days with same date and month but different week day, update day to the last day\n",
    "def fixSameDateDiffDay(df):\n",
    "    df_mdd = df.groupby(['Month', 'Date'])['Day'].transform('last')\n",
    "    df_modified = df\n",
    "    df_modified['Day'] = df_mdd\n",
    "    day_of_week = ['Sun', 'Sat','Fri','Thur','Wed','Tue','Mon']\n",
    "    print(df_modified)\n",
    "    df_mdd = df_mdd.reset_index()\n",
    "    return df_modified"
   ]
  },
  {
   "cell_type": "markdown",
   "metadata": {},
   "source": [
    "#### Group data by Day and Hour while aggregating the count of actions, sort and drop duplicates if any"
   ]
  },
  {
   "cell_type": "code",
   "execution_count": 157,
   "metadata": {},
   "outputs": [],
   "source": [
    "def groupByAndSort(dataframe):\n",
    "    maximums = dataframe.groupby(['Day','Hour'])['Action'].agg('size')\n",
    "    maximums=maximums.reset_index()\n",
    "    df_sorted = maximums.sort_values('Action', ascending=False).drop_duplicates(['Day','Hour'])\n",
    "    return maximums,df_sorted\n",
    "    "
   ]
  },
  {
   "cell_type": "markdown",
   "metadata": {},
   "source": [
    "#### From the sorted data, get the Date, Month, Day with max Action count"
   ]
  },
  {
   "cell_type": "code",
   "execution_count": 159,
   "metadata": {},
   "outputs": [],
   "source": [
    "def getMostActionsDay(df_sorted):\n",
    "    #q3\n",
    "    return df_sorted.loc[df_sorted['Action'].idxmax()]"
   ]
  },
  {
   "cell_type": "code",
   "execution_count": 160,
   "metadata": {},
   "outputs": [],
   "source": [
    "def plotMostActionsByHour(df_sorted):\n",
    "    #q4\n",
    "    fig, ax = pyplot.subplots()\n",
    "    for hour, group in df_sorted.groupby(\"Day\"):\n",
    "        ax.hist(group['Action'], label=f\" {hour}\")\n",
    "    ax.legend()\n",
    "    pyplot.show()"
   ]
  },
  {
   "cell_type": "code",
   "execution_count": 161,
   "metadata": {},
   "outputs": [],
   "source": [
    "def plotMostActionsByHourClubed(maximums):\n",
    "    df_grpd = maximums\n",
    "    print(df_grpd)\n",
    "    df_grpd['Action'].hist(by=df_grpd['Day'])"
   ]
  },
  {
   "cell_type": "code",
   "execution_count": 162,
   "metadata": {},
   "outputs": [],
   "source": [
    "def plotDiaperChangeOverTime_Day(df):\n",
    "    #q5\n",
    "    fig, ax = pyplot.subplots()\n",
    "    diaper_overtime = df.loc[(df['Action'] != 'eat') & (df['Action'] != 'snack')]\n",
    "    diaper_overtime_day = diaper_overtime.groupby(['Day'])['Action'].agg('size')\n",
    "    print(diaper_overtime_day)\n",
    "    diaper_overtime_day.plot(legend='True', label=f\"Day\")\n",
    "    pyplot.show()"
   ]
  },
  {
   "cell_type": "code",
   "execution_count": 163,
   "metadata": {},
   "outputs": [],
   "source": [
    "def plotDiaperChangeOverTime_Date(df):\n",
    "    #q5\n",
    "    fig, ax = pyplot.subplots()\n",
    "    diaper_overtime = df.loc[(df['Action'] != 'eat') & (df['Action'] != 'snack')]\n",
    "    diaper_overtime_date = diaper_overtime.groupby(['Date','Month'])['Action'].agg('size')\n",
    "    print(diaper_overtime_date)\n",
    "    diaper_overtime_date.plot(legend='True',label=f\"Date\")\n",
    "    pyplot.show()"
   ]
  },
  {
   "cell_type": "code",
   "execution_count": 166,
   "metadata": {},
   "outputs": [],
   "source": [
    "def otherPlots(df, df_sorted):\n",
    "    #Day, Hour across data\n",
    "    fig, ax = pyplot.subplots()\n",
    "    grouped_dmh = df.groupby(['Day','Hour'])['Action'].agg('size')\n",
    "    grouped_dmh.plot(legend='True')\n",
    "    pyplot.show()\n",
    "    \n",
    "    #Day, Hour across data\n",
    "    df_sorted_plt = df_sorted.groupby('Day').first().reset_index()\n",
    "    print(df_sorted_plt)\n",
    "\n",
    "    #For each day of the week, plot against hour and action\n",
    "    sns.barplot(x=\"Day\", y=\"Hour\", hue=\"Action\",data=df_sorted_plt)\n",
    "    pyplot.show()\n"
   ]
  },
  {
   "cell_type": "code",
   "execution_count": 167,
   "metadata": {},
   "outputs": [
    {
     "name": "stdout",
     "output_type": "stream",
     "text": [
      "i was here\n",
      "other value format-> Baby feeds\n",
      "other value format-> 20 pee\n",
      "other value format-> Hydrocortisone started at 1:30am\n",
      "other value format-> -\n",
      "other value format-> —\n",
      "other value format-> pee\n",
      "other value format-> hairloss\n",
      "      Minute  Hour Action  Date  Day  Month\n",
      "1654       0     0   poop    24  Fri      4\n",
      "1655      35     1    pee    24  Fri      4\n",
      "1656       0     2    eat    24  Fri      4\n",
      "1657      20     5    eat    24  Fri      4\n",
      "1658      45     5   poop    24  Fri      4\n",
      "...      ...   ...    ...   ...  ...    ...\n",
      "4          7    11    pee    21  Tue      7\n",
      "3         20    11   poop    21  Tue      7\n",
      "2         35    11    pee    21  Tue      7\n",
      "1         48    12    pee    21  Tue      7\n",
      "0         53    12    eat    21  Tue      7\n",
      "\n",
      "[1673 rows x 6 columns]\n",
      "Feed count 785\n",
      "diaper change count 888\n",
      "Most Action By Day\n",
      "Day       Thur\n",
      "Hour        20\n",
      "Action      22\n",
      "Name: 116, dtype: object\n"
     ]
    },
    {
     "data": {
      "image/png": "[encoded data removed]",
      "text/plain": [
       "<Figure size 432x288 with 1 Axes>"
      ]
     },
     "metadata": {
      "needs_background": "light"
     },
     "output_type": "display_data"
    },
    {
     "name": "stdout",
     "output_type": "stream",
     "text": [
      "     Day  Hour  Action\n",
      "0    Fri     0      10\n",
      "1    Fri     1       9\n",
      "2    Fri     2       5\n",
      "3    Fri     3       4\n",
      "4    Fri     4       4\n",
      "..   ...   ...     ...\n",
      "163  Wed    19      10\n",
      "164  Wed    20      11\n",
      "165  Wed    21      10\n",
      "166  Wed    22       3\n",
      "167  Wed    23       5\n",
      "\n",
      "[168 rows x 3 columns]\n",
      "Day\n",
      "Fri     132\n",
      "Mon     125\n",
      "Sat     117\n",
      "Sun     140\n",
      "Thur    126\n",
      "Tue     146\n",
      "Wed     102\n",
      "Name: Action, dtype: int64\n"
     ]
    },
    {
     "data": {
      "image/png": "[encoded data removed]",
      "text/plain": [
       "<Figure size 432x288 with 9 Axes>"
      ]
     },
     "metadata": {
      "needs_background": "light"
     },
     "output_type": "display_data"
    },
    {
     "data": {
      "image/png": "[encoded data removed]",
      "text/plain": [
       "<Figure size 432x288 with 1 Axes>"
      ]
     },
     "metadata": {
      "needs_background": "light"
     },
     "output_type": "display_data"
    },
    {
     "name": "stdout",
     "output_type": "stream",
     "text": [
      "Date  Month\n",
      "1     5        10\n",
      "      6        10\n",
      "2     5        10\n",
      "      6        11\n",
      "      7        22\n",
      "               ..\n",
      "29    5        11\n",
      "      6         8\n",
      "30    5         9\n",
      "      6        10\n",
      "31    5        10\n",
      "Name: Action, Length: 85, dtype: int64\n"
     ]
    },
    {
     "data": {
      "image/png": "[encoded data removed]",
      "text/plain": [
       "<Figure size 432x288 with 1 Axes>"
      ]
     },
     "metadata": {
      "needs_background": "light"
     },
     "output_type": "display_data"
    },
    {
     "data": {
      "image/png": "[encoded data removed]",
      "text/plain": [
       "<Figure size 432x288 with 1 Axes>"
      ]
     },
     "metadata": {
      "needs_background": "light"
     },
     "output_type": "display_data"
    },
    {
     "name": "stdout",
     "output_type": "stream",
     "text": [
      "    Day  Hour  Action\n",
      "0   Fri    17      17\n",
      "1   Mon    20      15\n",
      "2   Sat    12      17\n",
      "3   Sun    12      19\n",
      "4  Thur    20      22\n",
      "5   Tue    10      21\n",
      "6   Wed    16      15\n"
     ]
    },
    {
     "data": {
      "image/png": "[encoded data removed]",
      "text/plain": [
       "<Figure size 432x288 with 1 Axes>"
      ]
     },
     "metadata": {
      "needs_background": "light"
     },
     "output_type": "display_data"
    }
   ],
   "source": [
    "### main function\n",
    "def main():\n",
    "    baby_list = load_data()\n",
    "   \n",
    "    res = cleanData(baby_list)\n",
    "    \n",
    "    #format dataframe and sort\n",
    "    df = pd.DataFrame(res)\n",
    "\n",
    "    #update weekdays to be ordered categorical \n",
    "    weekday_cat = ['Mon', 'Tue', 'Wed', 'Thur', 'Fri', 'Sat', 'Sun']\n",
    "    df['Day'] = pd.Categorical(df['Day'], categories=weekday_cat, ordered=True)\n",
    "    #sort values on date and time\n",
    "    df = df.sort_values(['Month', 'Date','Day', 'Hour','Minute'])\n",
    "    \n",
    "    df = fixSameDateDiffDay(df)\n",
    "    \n",
    "    #q1,2\n",
    "    print(\"Feed count\", totalfeeds(df))\n",
    "    print(\"diaper change count\", totalDiaperChange(df))\n",
    "    \n",
    "    maximums,df_sorted = groupByAndSort(df)\n",
    "    \n",
    "    #q3\n",
    "    most_actions_day = getMostActionsDay(df_sorted)\n",
    "    print(\"Most Action By Day\")\n",
    "    print(most_actions_day)\n",
    "    \n",
    "    \n",
    "    #q4\n",
    "   \n",
    "    plotMostActionsByHour(df_sorted)\n",
    "    plotMostActionsByHourClubed(maximums)\n",
    "    \n",
    " \n",
    "    \n",
    "    #q5\n",
    "    plotDiaperChangeOverTime_Day(df)\n",
    "    plotDiaperChangeOverTime_Date(df)\n",
    "    \n",
    "\n",
    "    \n",
    "    otherPlots(df,df_sorted)\n",
    "    \n",
    "    \n",
    "    \n",
    "if __name__ == \"__main__\":\n",
    "        main()"
   ]
  },
  {
   "cell_type": "code",
   "execution_count": null,
   "metadata": {},
   "outputs": [],
   "source": [
    "# a = re.findall(r'(?:Mon|Tue|Wed|Thur|Fri|Sat|Sun)\\s(?:January|February|March|April|May|June|July|August|September|October|November|December)\\s\\d\\d', 'Tue July 21')\n",
    "# b = re.findall(r'(?:Mon|Tue|Wed|Thur|Fri|Sat|Sun)\\s\\d{1,2}/\\d{1,2}', 'Sat 05/30')\n",
    "# c = b = re.findall(r'\\d{1,2}/\\d{1,2}\\s(?:Mon|Tue|Wed|Thur|Fri|Sat|Sun)', '5/25 Mon')\n",
    "# print(a,b,c)\n",
    "# re.findall(r'\\d\\d\\d\\d', '1050 pee')"
   ]
  },
  {
   "cell_type": "code",
   "execution_count": 133,
   "metadata": {},
   "outputs": [],
   "source": [
    "# funtion to return dict with date as key and list of data having same date as values\n",
    "# def getDataOfSameDate(b_list, count):\n",
    "#     baby_dict = []\n",
    "#     temp_list = [] \n",
    "#     for val in b_list:\n",
    "#         date_match_1 = re.findall(r'(?:Mon|Tue|Wed|Thur|Fri|Sat|Sun)\\s(?:January|February|March|April|May|June|July|August|September|October|November|December)\\s\\d\\d', val)\n",
    "#         date_match_2 = re.findall(r'(?:Mon|Tue|Wed|Thur|Fri|Sat|Sun)\\s\\d{1,2}/\\d{1,2}', val)\n",
    "#         date_match_3 = re.findall(r'\\d{1,2}/\\d{1,2}\\s(?:Mon|Tue|Wed|Thur|Fri|Sat|Sun)', val)\n",
    "#         date_match_4 = re.findall(r'(?:Mon|Tues|Wed|Thurs|Fri|Sat|Sun)\\s\\d{1,2}/\\d{1,2}', val)\n",
    "#         date_match_5 = re.findall(r'(?:Mon|Tues|Wed|Thurs|Fri|Sat|Sun)\\s(?:Jan|Feb|Mar|Apr|May|Jun|Jul|Aug|Sep|Oct|Nov|Dec)\\s\\d{1,2}', val)\n",
    "#         date_match_6 = re.findall(r'(?:Mon|Tues|Wed|Thurs|Fri|Sat|Sun)\\s(?:January|February|March|April|May|June|July|August|September|October|November|December)\\s\\d{1,2}', val)\n",
    "#         if(len(date_match_1)!=0 or len(date_match_2)!=0 or len(date_match_3)!=0 or len(date_match_4)!=0 or len(date_match_5)!=0 or len(date_match_6)!=0):\n",
    "#             re_match = date_match_1 if len(date_match_1)!=0 else date_match_2 if len(date_match_2)!=0 else date_match_3 if len(date_match_3)!=0 else date_match_4 if len(date_match_4)!=0 else date_match_5 if len(date_match_5)!=0 else date_match_6\n",
    "#             val_dict = {\n",
    "#                 re_match[0]: copy.deepcopy(temp_list)\n",
    "#             }\n",
    "#             baby_dict.append(val_dict)\n",
    "#             temp_list.clear()\n",
    "#             re_match.clear()\n",
    "#             date_match_1.clear()\n",
    "#             date_match_2.clear()\n",
    "#             date_match_3.clear()\n",
    "#             date_match_4.clear()\n",
    "#             date_match_5.clear()\n",
    "#             date_match_6.clear()\n",
    "#             val_dict = {}\n",
    "#         elif(len(re.findall(r'\\d{3,4}', val)) != 0):\n",
    "#             temp_list.append(val)\n",
    "#             count = count+1\n",
    "#     return (baby_dict, count)\n",
    "\n",
    "# res_dict, count = getDataOfSameDate(baby_list, count)\n",
    "# print(len(res_dict), count)\n",
    "             \n",
    "            "
   ]
  },
  {
   "cell_type": "code",
   "execution_count": null,
   "metadata": {},
   "outputs": [],
   "source": []
  }
 ],
 "metadata": {
  "kernelspec": {
   "display_name": "Python 3",
   "language": "python",
   "name": "python3"
  },
  "language_info": {
   "codemirror_mode": {
    "name": "ipython",
    "version": 3
   },
   "file_extension": ".py",
   "mimetype": "text/x-python",
   "name": "python",
   "nbconvert_exporter": "python",
   "pygments_lexer": "ipython3",
   "version": "3.6.2"
  }
 },
 "nbformat": 4,
 "nbformat_minor": 2
}
